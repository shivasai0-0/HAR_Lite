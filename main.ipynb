{
  "cells": [],
  "metadata": {
    "colab": {
      "name": "HAR_notebook.ipynb",
      "provenance": []
    },
    "kernelspec": {
      "name": "python3",
      "display_name": "Python 3"
    },
    "language_info": {
      "name": "python"
    }
  },
  "nbformat": 4,
  "nbformat_minor": 1
}
