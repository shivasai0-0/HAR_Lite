{
"cells": [
{
 "cell_type": "markdown",
 "metadata": {},
 "source": [
  "# Hello from HAR_Lite\n",
  "This is a sample notebook for Human Activity Recognition."
 ]
},
{
 "cell_type": "code",
 "execution_count": null,
 "metadata": {},
 "outputs": [],
 "source": [
  "print(\"Running HAR_Lite notebook\")"
 ]
}
],
"metadata": {
"kernelspec": {
 "display_name": "Python 3",
 "language": "python",
 "name": "python3"
},
"language_info": {
 "name": "python",
 "version": "3.10"
}
},
"nbformat": 4,
"nbformat_minor": 5
}
